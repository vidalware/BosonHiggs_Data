{
  "nbformat": 4,
  "nbformat_minor": 5,
  "metadata": {
    "kernelspec": {
      "display_name": "Python 3",
      "language": "python",
      "name": "python3"
    },
    "language_info": {
      "codemirror_mode": {
        "name": "ipython",
        "version": 3
      },
      "file_extension": ".py",
      "mimetype": "text/x-python",
      "name": "python",
      "nbconvert_exporter": "python",
      "pygments_lexer": "ipython3",
      "version": "3.9.6"
    },
    "colab": {
      "provenance": []
    }
  },
  "cells": [
    {
      "cell_type": "markdown",
      "metadata": {
        "id": "bda06553"
      },
      "source": [
        "En primer lugar debemos instalar ROOT, ya que necesitamos la libreria root-numpy. Este paso sólo se hace una vez. Una vez hecho es recomendable comentar el contenido de la celda inferior."
      ],
      "id": "bda06553"
    },
    {
      "cell_type": "code",
      "metadata": {
        "colab": {
          "base_uri": "https://localhost:8080/",
          "height": 87
        },
        "id": "028649c4",
        "outputId": "0fb26983-0729-475b-fd7a-c4cfd170bec5"
      },
      "source": [
        "'''\n",
        "!wget https://github.com/MohamedElashri/HEP-ML/releases/download/ROOT/ROOT.tar.zip\n",
        "!unzip /content/ROOT.tar.zip\n",
        "!tar -xf  ROOT.tar\n",
        "!apt-get install git dpkg-dev cmake g++ gcc binutils libx11-dev libxpm-dev libxft-dev libxext-dev tar gfortran subversion\n",
        "\n",
        "import sys\n",
        "sys.path.append(\"/content/root_build/\")\n",
        "sys.path.append(\"/content/root_build/bin/\")\n",
        "sys.path.append(\"/content/root_build/include/\")\n",
        "sys.path.append(\"/content/root_build/lib/\")\n",
        "import ctypes\n",
        "ctypes.cdll.LoadLibrary('/content/root_build/lib//libCore.so')\n",
        "ctypes.cdll.LoadLibrary('/content/root_build/lib//libThread.so')\n",
        "ctypes.cdll.LoadLibrary('/content/root_build/lib//libTreePlayer.so')\n",
        "'''"
      ],
      "id": "028649c4",
      "execution_count": null,
      "outputs": [
        {
          "output_type": "execute_result",
          "data": {
            "text/plain": [
              "'\\n!wget https://github.com/MohamedElashri/HEP-ML/releases/download/ROOT/ROOT.tar.zip\\n!unzip /content/ROOT.tar.zip\\n!tar -xf  ROOT.tar\\n!apt-get install git dpkg-dev cmake g++ gcc binutils libx11-dev libxpm-dev libxft-dev libxext-dev tar gfortran subversion\\n\\nimport sys\\nsys.path.append(\"/content/root_build/\")\\nsys.path.append(\"/content/root_build/bin/\")\\nsys.path.append(\"/content/root_build/include/\")\\nsys.path.append(\"/content/root_build/lib/\")\\nimport ctypes\\nctypes.cdll.LoadLibrary(\\'/content/root_build/lib//libCore.so\\')\\nctypes.cdll.LoadLibrary(\\'/content/root_build/lib//libThread.so\\')\\nctypes.cdll.LoadLibrary(\\'/content/root_build/lib//libTreePlayer.so\\')\\n'"
            ],
            "application/vnd.google.colaboratory.intrinsic+json": {
              "type": "string"
            }
          },
          "metadata": {},
          "execution_count": 1
        }
      ]
    },
    {
      "cell_type": "markdown",
      "metadata": {
        "id": "ed5161a1"
      },
      "source": [
        "Instalando los paquetes necesarios"
      ],
      "id": "ed5161a1"
    },
    {
      "cell_type": "code",
      "metadata": {
        "id": "d583aed3"
      },
      "source": [
        "%%capture\n",
        "!pip install numpy\n",
        "!pip install uproot\n",
        "!pip install matplotlib\n",
        "!pip install root-numpy\n",
        "!pip install lmfit\n",
        "!pip install awkward"
      ],
      "id": "d583aed3",
      "execution_count": null,
      "outputs": []
    },
    {
      "cell_type": "markdown",
      "metadata": {
        "id": "809a17a5"
      },
      "source": [
        "Importando las librerias necesarias"
      ],
      "id": "809a17a5"
    },
    {
      "cell_type": "code",
      "metadata": {
        "id": "562054f1"
      },
      "source": [
        "import numpy as np\n",
        "import uproot\n",
        "import matplotlib.pyplot as plt\n",
        "#import root_numpy\n",
        "from lmfit.models import PolynomialModel, GaussianModel\n",
        "from matplotlib.ticker import MaxNLocator, AutoMinorLocator"
      ],
      "id": "562054f1",
      "execution_count": null,
      "outputs": []
    },
    {
      "cell_type": "markdown",
      "metadata": {
        "id": "5b16e41f"
      },
      "source": [
        "# Descubriendo el bosón de Higgs"
      ],
      "id": "5b16e41f"
    },
    {
      "cell_type": "markdown",
      "metadata": {
        "id": "cd3ced54"
      },
      "source": [
        "En esta actividad vamos a reconstruir el bosón de Higgs a partir de los datos de libre acceso que se pueden encontrar en el link https://atlas-opendata.web.cern.ch/atlas-opendata/samples/2020/GamGam/Data/. Como sabemos el bosón de Higgs es una partícula del modelo estandar con una masa de aproximada de  $125\\ [GeV]$, la cual proviene de la cuantización del campo de Higgs. Este campo es responsable de darle masa a las demás particulas del modelo estandar por medio del Mecanismo de Higgs. Debido a la forma en que el boson de Higgs interactua con las demás partículas del modelo estandar, esta puede decaer por varios canales de decaimiento. Dentro de todos los modos de decamiento posibles (ver http://opendata.atlas.cern/release/2020/documentation/visualization/the-higgs-boson.html para más detalles), en esta actividad nos vamos a centrar el canal en donde el Higgs decae a dos fotones, es decir $H\\rightarrow \\gamma\\gamma$ (ver el artículo https://arxiv.org/pdf/1207.7214.pdf para más detalles). Los diagramas de Feynman junto al histograma en donde se reporta la reconstrucción de la masa del Higgs en el mencionado canal se puede ver a continuación:"
      ],
      "id": "cd3ced54"
    },
    {
      "cell_type": "markdown",
      "metadata": {
        "id": "3774af24"
      },
      "source": [
        "<CENTER><img src=\"https://www.researchgate.net/profile/Oliver-Passon/publication/342599946/figure/fig4/AS:908484686118913@1593611036533/Left-Leading-order-contributions-to-the-decay-of-the-Higgs-boson-into-two-photons.png\" style=\"width:20%\"></CENTER>\n",
        "\n",
        "Por lo tanto, el objetivo principal de esta actividad es reproducir el histograma que acabamos de mostrar."
      ],
      "id": "3774af24"
    },
    {
      "cell_type": "markdown",
      "metadata": {
        "id": "1a566353"
      },
      "source": [
        "# Comienza el análisis"
      ],
      "id": "1a566353"
    },
    {
      "cell_type": "markdown",
      "metadata": {
        "id": "bd08103f"
      },
      "source": [
        "Primero definimos que fracción de los eventos queremos procesar. Si queremos procesar todos los datos, entonces fijamos este valor a 1. Por el contrario, si queremos menos datos, entonces diminuimos el valor."
      ],
      "id": "bd08103f"
    },
    {
      "cell_type": "code",
      "metadata": {
        "id": "e4bb91f7"
      },
      "source": [
        "fraction = 0.1"
      ],
      "id": "e4bb91f7",
      "execution_count": null,
      "outputs": []
    },
    {
      "cell_type": "markdown",
      "metadata": {
        "id": "af06cb70"
      },
      "source": [
        "Ahora creamos la variable $\\textrm{url_data_repository}$ en donde vamos a almacenar el link del repositorio en cual encontraremos nuestros archivos $\\textbf{.root}$ con los datos a procesar. El nombre de estos archivos se almacenan en la lista $\\textrm{data_names}$. Como vemos primero almacenamos solo un archivo, pero podemos añadir más entradas a esta lista para obtener más datos y por lo tanto más estadistica. Sin embargo sólo vamos a considerar un sólo archivo, ya que el tiempo de ejecución del algoritmo crece significativamente al tomar más archivos de datos."
      ],
      "id": "af06cb70"
    },
    {
      "cell_type": "code",
      "metadata": {
        "id": "683e6683"
      },
      "source": [
        "url_data_repository = \"https://atlas-opendata.web.cern.ch/atlas-opendata/samples/2020/GamGam/Data/\"\n",
        "data_names = [\"data_A.GamGam.root\"]\n",
        "#data_names = [\"data_A.GamGam.root\", \"data_B.GamGam.root\"]\n",
        "#data_names = [\"data_A.GamGam.root\", \"data_B.GamGam.root\", \"data_C.GamGam.root\"]\n",
        "#data_names = [\"data_A.GamGam.root\", \"data_B.GamGam.root\", \"data_C.GamGam.root\", \"data_D.GamGam.root\"]"
      ],
      "id": "683e6683",
      "execution_count": null,
      "outputs": []
    },
    {
      "cell_type": "markdown",
      "metadata": {
        "id": "eddfcbc2"
      },
      "source": [
        "Ahora vamos a definir una función que nos entrega como salida los $\\textbf{Trees}$ y $\\textbf{Branches}$ del archivo $\\textbf{.root}$ que estamos considerando. Los archivos con extensión $\\textbf{.root}$ son ampliamente usados en el contexto de análisis de datos en el LHC y entre otros contextos además. La estructura de estos archivos es muy similar a un directorio madre, el cual tiene varios subdirectorios, en los cuales podemos encontrar archivos de diferente tipo. En este tipo de archivos, el directorio madre sería el $\\textbf{Tree}$, el cual lleva un nombre. Luego, este $\\textbf{Tree}$ se subdivide en $\\textbf{Branches}$, que en nuestra analogía vendrían a ser los subdirectorios, y finalmente es en estas branches en donde encontramos nuestros datos (los archivos de diferente tipo)."
      ],
      "id": "eddfcbc2"
    },
    {
      "cell_type": "code",
      "metadata": {
        "id": "5af19423"
      },
      "source": [
        "def get_keys(data_path):\n",
        "    uproot_path = uproot.open(data_path)\n",
        "    key_names = uproot_path.keys()\n",
        "    tree = uproot_path[key_names[0]]\n",
        "    tree_keys = tree.keys()\n",
        "    return tree, tree_keys"
      ],
      "id": "5af19423",
      "execution_count": null,
      "outputs": []
    },
    {
      "cell_type": "markdown",
      "metadata": {
        "id": "3fe0b35b"
      },
      "source": [
        "Veamos el nombre de las branches de los archivos $\\textbf{.root}$ que estamos considerando en la lista $\\textrm{data_names}$:"
      ],
      "id": "3fe0b35b"
    },
    {
      "cell_type": "code",
      "metadata": {
        "id": "a0863b26",
        "colab": {
          "base_uri": "https://localhost:8080/"
        },
        "outputId": "5af8b9b0-d72d-46e1-c7c0-7f6490b92d8c"
      },
      "source": [
        "for i in range(len(data_names)):\n",
        "    print(\"Branches in file\", data_names[i], \": \", get_keys(url_data_repository + data_names[i])[1])"
      ],
      "id": "a0863b26",
      "execution_count": null,
      "outputs": [
        {
          "output_type": "stream",
          "name": "stdout",
          "text": [
            "Branches in file data_A.GamGam.root :  ['runNumber', 'eventNumber', 'channelNumber', 'mcWeight', 'scaleFactor_PILEUP', 'scaleFactor_ELE', 'scaleFactor_MUON', 'scaleFactor_PHOTON', 'scaleFactor_TAU', 'scaleFactor_BTAG', 'scaleFactor_LepTRIGGER', 'scaleFactor_PhotonTRIGGER', 'trigE', 'trigM', 'trigP', 'lep_n', 'lep_truthMatched', 'lep_trigMatched', 'lep_pt', 'lep_eta', 'lep_phi', 'lep_E', 'lep_z0', 'lep_charge', 'lep_type', 'lep_isTightID', 'lep_ptcone30', 'lep_etcone20', 'lep_trackd0pvunbiased', 'lep_tracksigd0pvunbiased', 'met_et', 'met_phi', 'jet_n', 'jet_pt', 'jet_eta', 'jet_phi', 'jet_E', 'jet_jvt', 'jet_trueflav', 'jet_truthMatched', 'jet_MV2c10', 'photon_n', 'photon_truthMatched', 'photon_trigMatched', 'photon_pt', 'photon_eta', 'photon_phi', 'photon_E', 'photon_isTightID', 'photon_ptcone30', 'photon_etcone20', 'photon_convType', 'tau_n', 'tau_pt', 'tau_eta', 'tau_phi', 'tau_E', 'tau_isTightID', 'tau_truthMatched', 'tau_trigMatched', 'tau_nTracks', 'tau_BDTid', 'ditau_m', 'lep_pt_syst', 'met_et_syst', 'jet_pt_syst', 'photon_pt_syst', 'tau_pt_syst', 'XSection', 'SumWeights', 'largeRjet_n', 'largeRjet_pt', 'largeRjet_eta', 'largeRjet_phi', 'largeRjet_E', 'largeRjet_m', 'largeRjet_truthMatched', 'largeRjet_D2', 'largeRjet_tau32', 'largeRjet_pt_syst', 'tau_charge']\n"
          ]
        }
      ]
    },
    {
      "cell_type": "markdown",
      "metadata": {
        "id": "a2481692"
      },
      "source": [
        "El significado de algunas de estas branches se puede ver a continuación:\n",
        "\n",
        "<CENTER><img src=\"http://opendata.atlas.cern/release/2020/documentation/datasets/pictures/tab_05.png\" style=\"width:20%\"></CENTER>\n",
        "\n",
        "Para nuestro propósito sólo estamos interesados en las branches $\\textbf{photon_pt}$, $\\textbf{photon_eta}$, $\\textbf{photon_phi}$, $\\textbf{photon_E}$, $\\textbf{photon_isTightID}$ y $\\textbf{photon_ptcone30}$. Para extraer los datos de esas branches definamos una función que nos entrege como resultado arreglos con los datos de las branches anteriormente mencionadas:"
      ],
      "id": "a2481692"
    },
    {
      "cell_type": "code",
      "metadata": {
        "id": "d5744ba2"
      },
      "source": [
        "def get_some_branches(data_list, list_with_branches_keys):\n",
        "    for i in data_list:\n",
        "        keys = get_keys(url_data_repository + i)[0]\n",
        "        for j in list_with_branches_keys:\n",
        "            if j == \"photon_pt\":\n",
        "                photon_pt_list = keys[j].array()\n",
        "            elif j == \"photon_eta\":\n",
        "                photon_eta_list = keys[j].array()\n",
        "            elif j == \"photon_phi\":\n",
        "                photon_phi_list = keys[j].array()\n",
        "            elif j == \"photon_E\":\n",
        "                photon_E_list = keys[j].array()\n",
        "            elif j == \"photon_isTightID\":\n",
        "                photon_isTightID_list = keys[j].array()\n",
        "            elif j == \"photon_etcone20\":\n",
        "                photon_etcone20_list = keys[j].array()\n",
        "\n",
        "    return photon_pt_list, photon_eta_list, photon_phi_list, photon_E_list, photon_isTightID_list, photon_etcone20_list"
      ],
      "id": "d5744ba2",
      "execution_count": null,
      "outputs": []
    },
    {
      "cell_type": "markdown",
      "metadata": {
        "id": "73b924a4"
      },
      "source": [
        "El siguiente paso es crear arreglos vacios con nombres similares a los de las branches de interes. Estos arreglos serán llenados con la función que hemos construido por medio de un loop. De esta forma ya estamos preparados para manipular nuestros datos para la recontrucción del bosón de Higgs.  "
      ],
      "id": "73b924a4"
    },
    {
      "cell_type": "code",
      "metadata": {
        "id": "b7640401"
      },
      "source": [
        "photon_pt_list = []\n",
        "photon_eta_list = []\n",
        "photon_phi_list = []\n",
        "photon_E_list = []\n",
        "photon_isTightID_list = []\n",
        "photon_etcone20_list = []\n",
        "\n",
        "some_branches = []\n",
        "\n",
        "for i in data_names:\n",
        "    some_branches.append(get_some_branches(data_names, get_keys(url_data_repository + i)[1]))\n",
        "\n",
        "for this_branch in some_branches:\n",
        "    photon_pt_list.extend(this_branch[0])\n",
        "    photon_eta_list.extend(this_branch[1])\n",
        "    photon_phi_list.extend(this_branch[2])\n",
        "    photon_E_list.extend(this_branch[3])\n",
        "    photon_isTightID_list.extend(this_branch[4])\n",
        "    photon_etcone20_list.extend(this_branch[5])"
      ],
      "id": "b7640401",
      "execution_count": null,
      "outputs": []
    },
    {
      "cell_type": "markdown",
      "metadata": {
        "id": "290f8669"
      },
      "source": [
        "Echemos un vistazo a los primeros datos alamacenados en estos arreglos:"
      ],
      "id": "290f8669"
    },
    {
      "cell_type": "code",
      "metadata": {
        "colab": {
          "base_uri": "https://localhost:8080/"
        },
        "id": "979c486f",
        "outputId": "26791ec4-efa5-49b4-8956-d8cf7fbca970"
      },
      "source": [
        "print(\"Elementos en el arreglo photon_pt_list: \")\n",
        "for i in range(3):\n",
        "    print(photon_pt_list[i])\n",
        "print(\"Número de elementos en el arreglo photon_pt_list: \" + str(len(photon_pt_list)) + \"\\n\")\n",
        "\n",
        "print(\"Elementos en el arreglo photon_eta_list: \")\n",
        "for i in range(3):\n",
        "    print(photon_eta_list[i])\n",
        "print(\"Número de elementos en el arreglo photon_eta_list: \" + str(len(photon_eta_list)) + \"\\n\")\n",
        "\n",
        "print(\"Elementos en el arreglo photon_phi_list: \")\n",
        "for i in range(3):\n",
        "    print(photon_phi_list[i])\n",
        "print(\"Número de elementos en el arreglo photon_phi_list: \" + str(len(photon_phi_list)) + \"\\n\")\n",
        "\n",
        "print(\"Elementos en el arreglo photon_E_list: \")\n",
        "for i in range(3):\n",
        "    print(photon_E_list[i])\n",
        "print(\"Número de elementos en el arreglo photon_E_list: \" + str(len(photon_E_list)) + \"\\n\")\n",
        "\n",
        "print(\"Elementos en el arreglo photon_isTightID_list: \")\n",
        "for i in range(3):\n",
        "    print(photon_isTightID_list[i])\n",
        "print(\"Número de elementos en el arreglo photon_pt_list: \" + str(len(photon_isTightID_list)) + \"\\n\")\n",
        "\n",
        "print(\"Elementos en el arreglo photon_etcone20_list: \")\n",
        "for i in range(3):\n",
        "    print(photon_etcone20_list[i])\n",
        "print(\"Número de elementos en el arreglo photon_etcone20_list: \" + str(len(photon_isTightID_list)) + \"\\n\")"
      ],
      "id": "979c486f",
      "execution_count": null,
      "outputs": [
        {
          "output_type": "stream",
          "name": "stdout",
          "text": [
            "Elementos en el arreglo photon_pt_list: \n",
            "[4.67e+04, 2.94e+04]\n",
            "[6.09e+04, 3.78e+04]\n",
            "[3.92e+04, 2.53e+04]\n",
            "Número de elementos en el arreglo photon_pt_list: 430344\n",
            "\n",
            "Elementos en el arreglo photon_eta_list: \n",
            "[-1.78, 1.17]\n",
            "[0.174, -0.969]\n",
            "[0.139, -1.31]\n",
            "Número de elementos en el arreglo photon_eta_list: 430344\n",
            "\n",
            "Elementos en el arreglo photon_phi_list: \n",
            "[-2.19, 1.13]\n",
            "[1.86, -0.888]\n",
            "[1.02, -1.79]\n",
            "Número de elementos en el arreglo photon_phi_list: 430344\n",
            "\n",
            "Elementos en el arreglo photon_E_list: \n",
            "[1.42e+05, 5.19e+04]\n",
            "[6.18e+04, 5.7e+04]\n",
            "[3.96e+04, 5.03e+04]\n",
            "Número de elementos en el arreglo photon_E_list: 430344\n",
            "\n",
            "Elementos en el arreglo photon_isTightID_list: \n",
            "[False, False]\n",
            "[False, False]\n",
            "[False, False]\n",
            "Número de elementos en el arreglo photon_pt_list: 430344\n",
            "\n",
            "Elementos en el arreglo photon_etcone20_list: \n",
            "[1.21e+03, 575]\n",
            "[5.4e+03, 2.01e+03]\n",
            "[3.26e+03, 2.11e+04]\n",
            "Número de elementos en el arreglo photon_etcone20_list: 430344\n",
            "\n"
          ]
        }
      ]
    },
    {
      "cell_type": "markdown",
      "metadata": {
        "id": "368b7583"
      },
      "source": [
        "Como vemos todos los arreglos que hemos construido tienen la forma de una matriz con $430344$ filas y $2$ columnas, donde el número de filas va a crecer si consideramos más archivos en el arreglo $\\textrm{data_names}$. Como podemos constatar acá estamos considerando sólo 6 branches, las cuales poseen $2x430344$ datos cada una. Si consideramos todas las branches de nuestro archivo, entonces vamos a tener que procesar un total de $2x430344x(\\mathrm{Número\\ de\\ branches})$ datos, y este número sigue creciendo a medida que tomamos más archivos en el arreglo $\\textrm{data_names}$. Esto nos lleva a pensar en la gran cantidad de datos que pueden tomar los experimentos del LHC, teniendo como consecuencia que estos archivos ocupen una gran cantidad de espacio de almacenamiento.\n",
        "\n",
        "Volviendo a nuestro análisis, la primera columna de estos arreglos poseen la información del photon leading, y la segunda columna posee la información del fotón sub-leading. Sin embargo, por temas de simplicidad a la hora de recontruir la masa del Higgs, conviene transponer estos arreglos, obteniendo como resultado arreglos con $430344$ columnas y $2$ filas, en donde el arreglo de la fila $1$ va a contener la información del fotón leading y la segunda fila va a contener la información del fotón sub-leading. Para eso utilizamos el método $\\textbf{np.transpose}$ de la libreria numpy:"
      ],
      "id": "368b7583"
    },
    {
      "cell_type": "code",
      "metadata": {
        "id": "47978b35"
      },
      "source": [
        "photon_pt_list_new = []\n",
        "photon_eta_list_new = []\n",
        "photon_phi_list_new = []\n",
        "photon_E_list_new = []\n",
        "photon_isTightID_list_new = []\n",
        "photon_etcone20_list_new = []"
      ],
      "id": "47978b35",
      "execution_count": null,
      "outputs": []
    },
    {
      "cell_type": "code",
      "metadata": {
        "id": "476c203c"
      },
      "source": [
        "for i in range(int(len(photon_pt_list)*fraction)):\n",
        "    if len(photon_pt_list[i]) != 2:\n",
        "        continue\n",
        "    photon_pt_list_new.append(photon_pt_list[i])"
      ],
      "id": "476c203c",
      "execution_count": null,
      "outputs": []
    },
    {
      "cell_type": "code",
      "metadata": {
        "id": "279352c1"
      },
      "source": [
        "for i in range(int(len(photon_pt_list)*fraction)):\n",
        "    if len(photon_eta_list[i]) != 2:\n",
        "        continue\n",
        "    photon_eta_list_new.append(photon_eta_list[i])"
      ],
      "id": "279352c1",
      "execution_count": null,
      "outputs": []
    },
    {
      "cell_type": "code",
      "metadata": {
        "id": "c23e8cad"
      },
      "source": [
        "for i in range(int(len(photon_pt_list)*fraction)):\n",
        "    if len(photon_phi_list[i]) != 2:\n",
        "        continue\n",
        "    photon_phi_list_new.append(photon_phi_list[i])"
      ],
      "id": "c23e8cad",
      "execution_count": null,
      "outputs": []
    },
    {
      "cell_type": "code",
      "metadata": {
        "id": "e8563b0d"
      },
      "source": [
        "for i in range(int(len(photon_pt_list)*fraction)):\n",
        "    if len(photon_E_list[i]) != 2:\n",
        "        continue\n",
        "    photon_E_list_new.append(photon_E_list[i])"
      ],
      "id": "e8563b0d",
      "execution_count": null,
      "outputs": []
    },
    {
      "cell_type": "code",
      "metadata": {
        "id": "b7f77276"
      },
      "source": [
        "for i in range(int(len(photon_pt_list)*fraction)):\n",
        "    if len(photon_isTightID_list[i]) != 2:\n",
        "        continue\n",
        "    photon_isTightID_list_new.append(photon_isTightID_list[i])"
      ],
      "id": "b7f77276",
      "execution_count": null,
      "outputs": []
    },
    {
      "cell_type": "code",
      "metadata": {
        "id": "bfbf2e65"
      },
      "source": [
        "for i in range(int(len(photon_pt_list)*fraction)):\n",
        "    if len(photon_etcone20_list[i]) != 2:\n",
        "        continue\n",
        "    photon_etcone20_list_new.append(photon_etcone20_list[i])"
      ],
      "id": "bfbf2e65",
      "execution_count": null,
      "outputs": []
    },
    {
      "cell_type": "code",
      "metadata": {
        "id": "4a627a3f"
      },
      "source": [
        "photon_pt_to_calculate_mass = np.array(photon_pt_list_new).T"
      ],
      "id": "4a627a3f",
      "execution_count": null,
      "outputs": []
    },
    {
      "cell_type": "code",
      "metadata": {
        "id": "341eca7a"
      },
      "source": [
        "photon_eta_to_calculate_mass = np.array(photon_eta_list_new).T"
      ],
      "id": "341eca7a",
      "execution_count": null,
      "outputs": []
    },
    {
      "cell_type": "code",
      "metadata": {
        "id": "c8fb4f64"
      },
      "source": [
        "photon_phi_to_calculate_mass = np.array(photon_phi_list_new).T"
      ],
      "id": "c8fb4f64",
      "execution_count": null,
      "outputs": []
    },
    {
      "cell_type": "code",
      "metadata": {
        "id": "c79432b6"
      },
      "source": [
        "photon_E_to_calculate_mass = np.array(photon_E_list_new).T"
      ],
      "id": "c79432b6",
      "execution_count": null,
      "outputs": []
    },
    {
      "cell_type": "code",
      "metadata": {
        "id": "b6956af4"
      },
      "source": [
        "photon_isTightID_to_calculate_mass = np.array(photon_isTightID_list_new).T"
      ],
      "id": "b6956af4",
      "execution_count": null,
      "outputs": []
    },
    {
      "cell_type": "code",
      "metadata": {
        "id": "4e7ed7ae"
      },
      "source": [
        "photon_etcone20_to_calculate_mass = np.array(photon_etcone20_list_new).T"
      ],
      "id": "4e7ed7ae",
      "execution_count": null,
      "outputs": []
    },
    {
      "cell_type": "markdown",
      "metadata": {
        "id": "7dbd59ca"
      },
      "source": [
        "Echemos un vistazo a estos nuevos arreglos:"
      ],
      "id": "7dbd59ca"
    },
    {
      "cell_type": "code",
      "metadata": {
        "colab": {
          "base_uri": "https://localhost:8080/"
        },
        "id": "df0d84f5",
        "outputId": "25a741f5-1e90-4474-81af-8af49908a4ae"
      },
      "source": [
        "print(\"Elementos en el arreglo photon_pt_list:\" ,photon_pt_to_calculate_mass, \"\\n\")\n",
        "print(\"Elementos en el arreglo photon_eta_list:\" ,photon_eta_to_calculate_mass, \"\\n\")\n",
        "print(\"Elementos en el arreglo photon_phi_list:\" ,photon_phi_to_calculate_mass, \"\\n\")\n",
        "print(\"Elementos en el arreglo photon_E_list:\" ,photon_E_to_calculate_mass, \"\\n\")\n",
        "print(\"Elementos en el arreglo photon_isTightID_list:\" ,photon_isTightID_to_calculate_mass, \"\\n\")\n",
        "print(\"Elementos en el arreglo photon_etcone20_list:\" ,photon_etcone20_to_calculate_mass, \"\\n\")"
      ],
      "id": "df0d84f5",
      "execution_count": null,
      "outputs": [
        {
          "output_type": "stream",
          "name": "stdout",
          "text": [
            "Elementos en el arreglo photon_pt_list: [[ 46690.223  60888.74   39186.21  ...  95674.91  108786.25   87315.195]\n",
            " [ 29442.607  37795.01   25327.361 ...  30258.053  27494.418  70316.45 ]] \n",
            "\n",
            "Elementos en el arreglo photon_eta_list: [[-1.7790892   0.1741194   0.13933659 ... -0.73444015 -1.8164222\n",
            "  -1.3540671 ]\n",
            " [ 1.1680628  -0.9689641  -1.309055   ... -0.6575072   0.7362977\n",
            "   0.91921216]] \n",
            "\n",
            "Elementos en el arreglo photon_phi_list: [[-2.1864736   1.8595004   1.0165337  ... -0.99144626  0.8353023\n",
            "  -1.6357179 ]\n",
            " [ 1.1273633  -0.88825077 -1.787857   ...  1.7098373  -2.6559947\n",
            "   1.1161007 ]] \n",
            "\n",
            "Elementos en el arreglo photon_E_list: [[142247.6    61814.07   39567.223 ... 122659.48  343352.4   180364.12 ]\n",
            " [ 51918.     56970.105  50309.613 ...  37037.62   35290.098 102174.99 ]] \n",
            "\n",
            "Elementos en el arreglo photon_isTightID_list: [[False False False ... False  True False]\n",
            " [False False False ... False False False]] \n",
            "\n",
            "Elementos en el arreglo photon_etcone20_list: [[ 1209.1973  5396.2334  3261.8389 ... 13449.404  12398.121   8503.457 ]\n",
            " [  575.0436  2005.2532 21145.145  ...   801.4022  9570.426  15707.864 ]] \n",
            "\n"
          ]
        }
      ]
    },
    {
      "cell_type": "markdown",
      "metadata": {
        "id": "3eed1100"
      },
      "source": [
        "Ahora estamos en condiciones de calcular la masa del bosón de Higgs. Para eso definamos una función que nos entregue como resultado un arreglo con la masa de esta particula:"
      ],
      "id": "3eed1100"
    },
    {
      "cell_type": "code",
      "metadata": {
        "id": "eb5e0701"
      },
      "source": [
        "def two_photons_invariant_mass(photons_pt, photons_eta, photons_phi, photons_E):\n",
        "    photons_0_px = photons_pt[0]*np.cos(photons_phi[0])\n",
        "    photons_1_px = photons_pt[1]*np.cos(photons_phi[1])\n",
        "    photons_0_py = photons_pt[0]*np.sin(photons_phi[0])\n",
        "    photons_1_py = photons_pt[1]*np.sin(photons_phi[1])\n",
        "    photons_0_pz = photons_pt[0]*np.sinh(photons_eta[0])\n",
        "    photons_1_pz = photons_pt[1]*np.sinh(photons_eta[1])\n",
        "\n",
        "    photons_px_total = photons_0_px + photons_1_px\n",
        "    photons_py_total = photons_0_py + photons_1_py\n",
        "    photons_pz_total = photons_0_pz + photons_1_pz\n",
        "\n",
        "    photons_0_E = photons_E[0]\n",
        "    photons_1_E = photons_E[1]\n",
        "\n",
        "    photons_E_total = photons_0_E + photons_1_E\n",
        "\n",
        "    '''\n",
        "    Implemente la formula de la masa invariante de los dos fotones. Recuerde que la masa invariante\n",
        "    se calcula como M = sqrt(E**2 - px**2 - py**2 - pz**2), donde E es la energía, px, py y pz son las componentes espaciales\n",
        "    del momentum\n",
        "    '''\n",
        "\n",
        "    Myy = np.sqrt(photons_E_total**2 -photons_px_total**2 - photons_py_total**2 -photons_pz_total**2 )\n",
        "\n",
        "    return Myy/1000."
      ],
      "id": "eb5e0701",
      "execution_count": null,
      "outputs": []
    },
    {
      "cell_type": "markdown",
      "metadata": {
        "id": "6604a2a4"
      },
      "source": [
        "Como vemos esta función toma como argumento el momentum transversal $p_T$, la pseudo-rapidez $\\eta$, el ángulo azimutal $\\phi$ y la energía $E$. De los arreglos que pudimos obtener más arriba, los sub-arreglos de los fotones leading se evaluan en las lineas de código que poseen $[0]$ y los sub-leading en las que poseen $[1]$. De esta forma obtemos un arreglo con la masa del bosón de Higgs:"
      ],
      "id": "6604a2a4"
    },
    {
      "cell_type": "code",
      "metadata": {
        "id": "6d4a6151"
      },
      "source": [
        "Hboson_mass = two_photons_invariant_mass(photon_pt_to_calculate_mass, photon_eta_to_calculate_mass, photon_phi_to_calculate_mass, photon_E_to_calculate_mass)"
      ],
      "id": "6d4a6151",
      "execution_count": null,
      "outputs": []
    },
    {
      "cell_type": "markdown",
      "metadata": {
        "id": "b03af0fb"
      },
      "source": [
        "Para hacerse una idea de cómo lucen estos datos, debemos hacer un histograma. Para este proposito definamos una función que toma como entrada el arreglo obtenido arriba para la masa del bosón de Higgs y da como salida el respectivo histograma:"
      ],
      "id": "b03af0fb"
    },
    {
      "cell_type": "code",
      "metadata": {
        "id": "24614d21"
      },
      "source": [
        "def data_visualizer(data):\n",
        "    plt.axes([0.1,0.3,0.85,0.65]) # left, bottom, width, height\n",
        "    main_axes = plt.gca() # get current axes\n",
        "\n",
        "    xmin = 100 # GeV\n",
        "    xmax = 160 # GeV\n",
        "    step_size = 2 # GeV\n",
        "\n",
        "    bin_edges = np.arange(start = xmin, # The interval includes this value\n",
        "                          stop  = xmax + step_size, # The interval doesn't include this value\n",
        "                          step  = step_size ) # Spacing between values\n",
        "    bin_centres = np.arange(start = xmin + step_size/2, # The interval includes this value\n",
        "                            stop  = xmax + step_size/2, # The interval doesn't include this value\n",
        "                            step  = step_size ) # Spacing between values\n",
        "\n",
        "    data_x, _ = np.histogram(data, bins = bin_edges ) # histogram the data\n",
        "    data_x_errors = np.sqrt(data_x) # statistical error on the data\n",
        "\n",
        "    main_axes.errorbar(x = bin_centres, y = data_x, yerr = data_x_errors, fmt = \"ko\", label = \"Data\")\n",
        "\n",
        "    main_axes.legend(fontsize = 10)\n",
        "    main_axes.set_xlabel(\"$m_{\\gamma\\gamma}\\ [GeV]$\", fontsize = 10)\n",
        "    main_axes.set_ylabel(\"Number of Events\", fontsize = 10)\n",
        "    return"
      ],
      "id": "24614d21",
      "execution_count": null,
      "outputs": []
    },
    {
      "cell_type": "code",
      "metadata": {
        "id": "50443a3b",
        "colab": {
          "base_uri": "https://localhost:8080/",
          "height": 397
        },
        "outputId": "858ff798-aef3-4d78-d499-16e8dc65bfa3"
      },
      "source": [
        "data_visualizer(Hboson_mass)"
      ],
      "id": "50443a3b",
      "execution_count": null,
      "outputs": [
        {
          "output_type": "display_data",
          "data": {
            "text/plain": [
              "<Figure size 640x480 with 1 Axes>"
            ],
            "image/png": "[encoded data removed]"
          },
          "metadata": {}
        }
      ]
    },
    {
      "cell_type": "markdown",
      "metadata": {
        "id": "378bd5ff"
      },
      "source": [
        "Ya estamos casi! Pero primero debemos hacer un ajuste de un módelo a estos datos. Como se explicó en la sesión de introdución de esta Master Class, cuando uno realiza busquedas de particulas uno debe encontrar un peak o un exceso de datos sobre un background. De acuerdo a la estadística, este peak debiese estar localizado en una cierta región que se denomina región de señal y las regiones exteriores a estas se denominan regiones de control, las cuales son regiones en donde no se encuentra nuestra señal o en otras palabras son regiones enriquecidas de background. Para este caso particular el background se modela con una función polinomial y la señal se modela con una ditribución de Gauss, de esta forma el modelo total corresponde a la suma de estas dos contribuciones. La siguiente función implementa este modelo, esta toma como entrada el arreglo con la masa del Higgs y da como salida el ajuste del modelo a los datos:  "
      ],
      "id": "378bd5ff"
    },
    {
      "cell_type": "code",
      "metadata": {
        "id": "16993b72"
      },
      "source": [
        "def data_fit(data):\n",
        "    fraction = 0.8\n",
        "    lumi = 0.5\n",
        "    xmin = 100 # GeV\n",
        "    xmax = 160 # GeV\n",
        "    step_size = 2 # GeV\n",
        "\n",
        "    bin_edges = np.arange(start=xmin, # The interval includes this value\n",
        "                     stop=xmax+step_size, # The interval doesn't include this value\n",
        "                     step=step_size ) # Spacing between values\n",
        "    bin_centres = np.arange(start=xmin+step_size/2, # The interval includes this value\n",
        "                            stop=xmax+step_size/2, # The interval doesn't include this value\n",
        "                            step=step_size ) # Spacing between values\n",
        "\n",
        "    data_x,_ = np.histogram(data,\n",
        "                            bins=bin_edges ) # histogram the data\n",
        "    data_x_errors = np.sqrt( data_x ) # statistical error on the data\n",
        "\n",
        "    # data fit\n",
        "\n",
        "    '''\n",
        "    Acá la idea es encontrar un modelo apropiado para ajustar a los datos, para eso\n",
        "    tienen que ir probando con polinomios de diferente orden, el cual se ajustará a\n",
        "    la región de background\n",
        "    '''\n",
        "\n",
        "    ##########################################################\n",
        "    ##########################################################\n",
        "    #Dentro del parentesis debe poner el orden del polinomio a considerar para el ajuste\n",
        "    polynomial_mod = PolynomialModel(4)\n",
        "    ##########################################################\n",
        "    ##########################################################\n",
        "\n",
        "\n",
        "    gaussian_mod = GaussianModel() # Gaussian\n",
        "\n",
        "    #############################################################################\n",
        "    #############################################################################\n",
        "    #Añada los parametros que correspondas al polinomio que mejor se ajuste\n",
        "    # set initial guesses for the parameters of the polynomial model\n",
        "    # c0 + c1x + c2x^2 + c3x^3 + c4x^4 + c5x^5 + c6x^6 + c7*x^7\n",
        "    pars = polynomial_mod.guess(data_x, # data to use to guess parameter values\n",
        "                                x=bin_centres, c0=data_x.max(), c1=0, c2 =0,c3=0,c4=0) #\n",
        "    #############################################################################\n",
        "    #############################################################################\n",
        "\n",
        "    # set initial guesses for the parameters of the Gaussian model\n",
        "    pars += gaussian_mod.guess(data_x, # data to use to guess parameter values\n",
        "                               x=bin_centres, amplitude=100,\n",
        "                               center=125, sigma=2 )\n",
        "\n",
        "    ################################################################\n",
        "    ################################################################\n",
        "    #Encuentre el modelo de señal más background\n",
        "    model = polynomial_mod  + gaussian_mod# combined model\n",
        "    ################################################################\n",
        "    ################################################################\n",
        "\n",
        "    # fit the model to the data\n",
        "    out = model.fit(data_x, # data to be fit\n",
        "                    pars, # guesses for the parameters\n",
        "                    x=bin_centres, weights=1/data_x_errors )\n",
        "\n",
        "    ###################################################################################\n",
        "    ###################################################################################\n",
        "    #Defina los parametros del polinomio\n",
        "    # background part of fit\n",
        "    params_dict = out.params.valuesdict() # get the parameters from the fit to data\n",
        "    c0 = params_dict['c0'] # c0 of c0 + c1x + c2x^2 + c3x^3 + c4x^4 + c5x^5 + c6x^6 + c7x^7\n",
        "    c1 = params_dict['c1']\n",
        "    c2 = params_dict['c2']\n",
        "    c3 = params_dict['c3']\n",
        "    c4 = params_dict['c4']\n",
        "\n",
        "     # c1 of c0 + c1x + c2x^2 + c3x^3 + c4x^4 + c5x^5 + c6x^6 + c7x^7\n",
        "    ###################################################################################\n",
        "    ###################################################################################\n",
        "\n",
        "\n",
        "\n",
        "\n",
        "    ###################################################################################\n",
        "    ###################################################################################\n",
        "    #Encuentre el polinomio\n",
        "    # get the background only part of the fit to data\n",
        "    background = c0 + c1*bin_centres  + c2*bin_centres**2 + c3*bin_centres**3+c4*bin_centres**4\n",
        "     ###################################################################################\n",
        "    ###################################################################################\n",
        "\n",
        "\n",
        "    # data fit - background fit = signal fit\n",
        "    signal_x = data_x - background\n",
        "\n",
        "\n",
        "    # *************\n",
        "    # Main plot\n",
        "    # *************\n",
        "    plt.axes([0.1,0.3,0.85,0.65]) # left, bottom, width, height\n",
        "    main_axes = plt.gca() # get current axes\n",
        "\n",
        "    # plot the data points\n",
        "    main_axes.errorbar(x=bin_centres, y=data_x, yerr=data_x_errors,\n",
        "                       fmt='ko', # 'k' means black and 'o' means circles\n",
        "                       label='Data' )\n",
        "\n",
        "    # plot the signal + background fit\n",
        "    main_axes.plot(bin_centres, # x\n",
        "                   out.best_fit, # y\n",
        "                   '-r', # single red line\n",
        "                   label='Sig+Bkg Fit ($m_H=125$ GeV)' )\n",
        "\n",
        "    # plot the background only fit\n",
        "    main_axes.plot(bin_centres, # x\n",
        "                   background, # y\n",
        "                   '--r', # dashed red line\n",
        "                   label='Bkg (4th order polynomial)' )\n",
        "\n",
        "    # set the x-limit of the main axes\n",
        "    main_axes.set_xlim( left=xmin, right=xmax )\n",
        "\n",
        "    # separation of x-axis minor ticks\n",
        "    main_axes.xaxis.set_minor_locator( AutoMinorLocator() )\n",
        "\n",
        "    # set the axis tick parameters for the main axes\n",
        "    main_axes.tick_params(which='both', # ticks on both x and y axes\n",
        "                          direction='in', # Put ticks inside and outside the axes\n",
        "                          top=True, # draw ticks on the top axis\n",
        "                          labelbottom=False, # don't draw tick labels on bottom axis\n",
        "                          right=True ) # draw ticks on right axis\n",
        "\n",
        "    # write y-axis label for main axes\n",
        "    main_axes.set_ylabel('Events / '+str(step_size)+' GeV',\n",
        "                         horizontalalignment='right')\n",
        "\n",
        "    # set the y-axis limit for the main axes\n",
        "    main_axes.set_ylim( bottom=0, top=np.amax(data_x)*1.1 )\n",
        "\n",
        "    # set minor ticks on the y-axis of the main axes\n",
        "    main_axes.yaxis.set_minor_locator( AutoMinorLocator() )\n",
        "\n",
        "    # avoid displaying y=0 on the main axes\n",
        "    main_axes.yaxis.get_major_ticks()[0].set_visible(False)\n",
        "\n",
        "    # Add text 'ATLAS Open Data' on plot\n",
        "    plt.text(0.2, # x\n",
        "             0.92, # y\n",
        "             'ATLAS Open Data', # text\n",
        "             transform=main_axes.transAxes, # coordinate system used is that of main_axes\n",
        "             fontsize=13 )\n",
        "\n",
        "    # Add text 'for education' on plot\n",
        "    plt.text(0.2, # x\n",
        "             0.86, # y\n",
        "             'for education', # text\n",
        "             transform=main_axes.transAxes, # coordinate system used is that of main_axes\n",
        "             style='italic',\n",
        "             fontsize=8 )\n",
        "\n",
        "    # Add energy and luminosity\n",
        "    lumi_used = str(lumi*fraction) # luminosity to write on the plot\n",
        "    plt.text(0.2, # x\n",
        "             0.8, # y\n",
        "             '$\\sqrt{s}$=13 TeV,$\\int$L dt = '+lumi_used+' fb$^{-1}$', # text\n",
        "             transform=main_axes.transAxes ) # coordinate system used is that of main_axes\n",
        "\n",
        "    # Add a label for the analysis carried out\n",
        "    plt.text(0.2, # x\n",
        "             0.74, # y\n",
        "             r'$H \\rightarrow \\gamma\\gamma$', # text\n",
        "             transform=main_axes.transAxes ) # coordinate system used is that of main_axes\n",
        "\n",
        "    # draw the legend\n",
        "    main_axes.legend(frameon=False, # no box around the legend\n",
        "                     loc='lower left' ) # legend location\n",
        "\n",
        "\n",
        "    # *************\n",
        "    # Data-Bkg plot\n",
        "    # *************\n",
        "    plt.axes([0.1,0.1,0.85,0.2]) # left, bottom, width, height\n",
        "    sub_axes = plt.gca() # get the current axes\n",
        "\n",
        "    # set the y axis to be symmetric about Data-Background=0\n",
        "    sub_axes.yaxis.set_major_locator( MaxNLocator(nbins='auto',\n",
        "                                                  symmetric=True) )\n",
        "\n",
        "    # plot Data-Background\n",
        "    sub_axes.errorbar(x=bin_centres, y=signal_x, yerr=data_x_errors,\n",
        "                      fmt='ko' ) # 'k' means black and 'o' means circles\n",
        "\n",
        "    # draw the fit to data\n",
        "    sub_axes.plot(bin_centres, # x\n",
        "                  out.best_fit-background, # y\n",
        "                  '-r' ) # single red line\n",
        "\n",
        "    # draw the background only fit\n",
        "    sub_axes.plot(bin_centres, # x\n",
        "                  background-background, # y\n",
        "                  '--b' )  # dashed red line\n",
        "\n",
        "    # set the x-axis limits on the sub axes\n",
        "    sub_axes.set_xlim( left=xmin, right=xmax )\n",
        "\n",
        "    # separation of x-axis minor ticks\n",
        "    sub_axes.xaxis.set_minor_locator( AutoMinorLocator() )\n",
        "\n",
        "    # x-axis label\n",
        "    sub_axes.set_xlabel(r'di-photon invariant mass $\\mathrm{m_{\\gamma\\gamma}}$ [GeV]',\n",
        "                        x=1, horizontalalignment='right',\n",
        "                        fontsize=13 )\n",
        "\n",
        "    # set the tick parameters for the sub axes\n",
        "    sub_axes.tick_params(which='both', # ticks on both x and y axes\n",
        "                         direction='in', # Put ticks inside and outside the axes\n",
        "                         top=True, # draw ticks on the top axis\n",
        "                         right=True ) # draw ticks on right axis\n",
        "\n",
        "    # separation of y-axis minor ticks\n",
        "    sub_axes.yaxis.set_minor_locator( AutoMinorLocator() )\n",
        "\n",
        "    # y-axis label on the sub axes\n",
        "    sub_axes.set_ylabel( 'Events-Bkg' )\n",
        "\n",
        "\n",
        "    # Generic features for both plots\n",
        "    main_axes.yaxis.set_label_coords( -0.09, 1 ) # x,y coordinates of the y-axis label on the main axes\n",
        "    sub_axes.yaxis.set_label_coords( -0.09, 0.5 ) # x,y coordinates of the y-axis label on the sub axes\n",
        "\n",
        "    return"
      ],
      "id": "16993b72",
      "execution_count": null,
      "outputs": []
    },
    {
      "cell_type": "markdown",
      "metadata": {
        "id": "2824dc25"
      },
      "source": [
        "Veamos cómo luce el ajuste:"
      ],
      "id": "2824dc25"
    },
    {
      "cell_type": "code",
      "metadata": {
        "id": "8f0a2986",
        "colab": {
          "base_uri": "https://localhost:8080/",
          "height": 528
        },
        "outputId": "3c6bdbfe-3156-48d4-cb8e-ea727b24edc5"
      },
      "source": [
        "data_fit(Hboson_mass)"
      ],
      "id": "8f0a2986",
      "execution_count": null,
      "outputs": [
        {
          "output_type": "stream",
          "name": "stderr",
          "text": [
            "/usr/local/lib/python3.11/dist-packages/uncertainties/core.py:1024: UserWarning: Using UFloat objects with std_dev==0 may give unexpected results.\n",
            "  warn(\"Using UFloat objects with std_dev==0 may give unexpected results.\")\n"
          ]
        },
        {
          "output_type": "display_data",
          "data": {
            "text/plain": [
              "<Figure size 640x480 with 2 Axes>"
            ],
            "image/png": "[encoded data removed]"
          },
          "metadata": {}
        }
      ]
    },
    {
      "cell_type": "markdown",
      "metadata": {
        "id": "0052199a"
      },
      "source": [
        "Como vemos el gráfico que hemos obtenido no se parece al mostrado en la introducción, ya que el peak de la región de señal no está cercano a los $125\\ [GeV]$. La razón de esto es que no hemos incluido un análisis de cómo los fotones del estado final interactuan con el calorimetro electromágnetico de ATLAS. Para este proposito, debemos aplicar condiciones a nuestros datos de forma tal de filtrarlos y quedarnos sólo con los datos que reflejan este comportamiento. Para esto vamos a definir la siguiente función que toma como entrada todos los arreglos que hemos definido más arriba y nos da cómo salida arreglos filtrados para el momentum transversal $p_T$, la pseudo-rapidez $\\eta$, el ángulo azimutal $\\phi$ y la energía $E$:"
      ],
      "id": "0052199a"
    },
    {
      "cell_type": "code",
      "metadata": {
        "id": "fcb64f34"
      },
      "source": [
        "def filter_data(photon_pt, photon_eta, photon_phi, photon_E, photon_isTightID, photon_etcone20):\n",
        "    photon_pt_filter = []\n",
        "    photon_eta_filter = []\n",
        "    photon_phi_filter = []\n",
        "    photon_E_filter = []\n",
        "\n",
        "    for i in range(len(photon_pt[0])):\n",
        "        #Descomente un condicional a la vez, para ver cómo cambia el gráfico del final ¿Qué conclusiones puede sacar al respecto?\n",
        "\n",
        "\n",
        "        if photon_pt[0][i] < 40000 or photon_pt[1][i] < 30000:\n",
        "            continue\n",
        "\n",
        "\n",
        "\n",
        "        if (abs(photon_eta[0][i]) < 1.52 and abs(photon_eta[0][i]) > 1.37) or (abs(photon_eta[1][i]) < 1.52 and abs(photon_eta[1][i]) > 1.37):\n",
        "            continue\n",
        "\n",
        "\n",
        "\n",
        "        if photon_isTightID[0][i] == False or photon_isTightID[1][i] == False:\n",
        "            continue\n",
        "        '''\n",
        "\n",
        "        '''\n",
        "        if photon_etcone20[0][i] > 4000 or photon_etcone20[1][i] > 4000:\n",
        "            continue\n",
        "\n",
        "\n",
        "        photon_pt_filter.append([photon_pt[0][i], photon_pt[1][i]])\n",
        "        photon_eta_filter.append([photon_eta[0][i], photon_eta[1][i]])\n",
        "        photon_phi_filter.append([photon_phi[0][i], photon_phi[1][i]])\n",
        "        photon_E_filter.append([photon_E[0][i], photon_E[1][i]])\n",
        "\n",
        "    return np.array(photon_pt_filter), np.array(photon_eta_filter), np.array(photon_phi_filter), np.array(photon_E_filter)"
      ],
      "id": "fcb64f34",
      "execution_count": null,
      "outputs": []
    },
    {
      "cell_type": "markdown",
      "metadata": {
        "id": "8b1c32af"
      },
      "source": [
        "De esta forma los arreglos filtrados para las variables $p_T$, $\\eta$, $\\phi$ y $E$ son de la forma:"
      ],
      "id": "8b1c32af"
    },
    {
      "cell_type": "code",
      "metadata": {
        "id": "a4613e67"
      },
      "source": [
        "photon_pt_to_calculate_mass_filter  = np.transpose(filter_data(photon_pt_to_calculate_mass, photon_eta_to_calculate_mass, photon_phi_to_calculate_mass, photon_E_to_calculate_mass, photon_isTightID_to_calculate_mass, photon_etcone20_to_calculate_mass)[0])"
      ],
      "id": "a4613e67",
      "execution_count": null,
      "outputs": []
    },
    {
      "cell_type": "code",
      "metadata": {
        "id": "ipR_6M36Sg5N"
      },
      "source": [
        "photon_eta_to_calculate_mass_filter = np.transpose(filter_data(photon_pt_to_calculate_mass, photon_eta_to_calculate_mass, photon_phi_to_calculate_mass, photon_E_to_calculate_mass, photon_isTightID_to_calculate_mass, photon_etcone20_to_calculate_mass)[1])"
      ],
      "id": "ipR_6M36Sg5N",
      "execution_count": null,
      "outputs": []
    },
    {
      "cell_type": "code",
      "metadata": {
        "id": "571bb330"
      },
      "source": [
        "photon_phi_to_calculate_mass_filter = np.transpose(filter_data(photon_pt_to_calculate_mass, photon_eta_to_calculate_mass, photon_phi_to_calculate_mass, photon_E_to_calculate_mass, photon_isTightID_to_calculate_mass, photon_etcone20_to_calculate_mass)[2])"
      ],
      "id": "571bb330",
      "execution_count": null,
      "outputs": []
    },
    {
      "cell_type": "code",
      "metadata": {
        "id": "bf678179"
      },
      "source": [
        "photon_E_to_calculate_mass_filter   = np.transpose(filter_data(photon_pt_to_calculate_mass, photon_eta_to_calculate_mass, photon_phi_to_calculate_mass, photon_E_to_calculate_mass, photon_isTightID_to_calculate_mass, photon_etcone20_to_calculate_mass)[3])"
      ],
      "id": "bf678179",
      "execution_count": null,
      "outputs": []
    },
    {
      "cell_type": "markdown",
      "metadata": {
        "id": "f1ebc55b"
      },
      "source": [
        "Por lo tanto, con esto arreglos filtrados podemos calcular nuevamente la masa del bosón de Higgs:"
      ],
      "id": "f1ebc55b"
    },
    {
      "cell_type": "markdown",
      "metadata": {
        "id": "uIDLDYwDV1Rn"
      },
      "source": [],
      "id": "uIDLDYwDV1Rn"
    },
    {
      "cell_type": "code",
      "metadata": {
        "id": "63d5017e"
      },
      "source": [
        "Hboson_mass_filter = two_photons_invariant_mass(photon_pt_to_calculate_mass_filter, photon_eta_to_calculate_mass_filter, photon_phi_to_calculate_mass_filter, photon_E_to_calculate_mass_filter)"
      ],
      "id": "63d5017e",
      "execution_count": null,
      "outputs": []
    },
    {
      "cell_type": "code",
      "metadata": {
        "id": "n9SNAN3JWQ0R"
      },
      "source": [],
      "id": "n9SNAN3JWQ0R",
      "execution_count": null,
      "outputs": []
    },
    {
      "cell_type": "markdown",
      "metadata": {
        "id": "742c5509"
      },
      "source": [
        "Echemos un vistazo a los datos:"
      ],
      "id": "742c5509"
    },
    {
      "cell_type": "code",
      "metadata": {
        "id": "16a792fd",
        "colab": {
          "base_uri": "https://localhost:8080/",
          "height": 397
        },
        "outputId": "65723716-9951-4adc-f000-e10fe0dd3757"
      },
      "source": [
        "data_visualizer(Hboson_mass_filter)"
      ],
      "id": "16a792fd",
      "execution_count": null,
      "outputs": [
        {
          "output_type": "display_data",
          "data": {
            "text/plain": [
              "<Figure size 640x480 with 1 Axes>"
            ],
            "image/png": "[encoded data removed]"
          },
          "metadata": {}
        }
      ]
    },
    {
      "cell_type": "markdown",
      "metadata": {
        "id": "1ff9bcb9"
      },
      "source": [
        "Como vemos, la cantidad de datos disminuyo considerablemente. Lo que nos da una señal más limpia en comparación al caso anterior. Finalmente, hagamos un ajuste a estos datos utilizando el mismo modelo:"
      ],
      "id": "1ff9bcb9"
    },
    {
      "cell_type": "code",
      "metadata": {
        "id": "488faefa",
        "colab": {
          "base_uri": "https://localhost:8080/",
          "height": 493
        },
        "outputId": "3ad40f20-607b-4ad7-a079-eb7eb8616ea2"
      },
      "source": [
        "data_fit(Hboson_mass_filter)"
      ],
      "id": "488faefa",
      "execution_count": null,
      "outputs": [
        {
          "output_type": "display_data",
          "data": {
            "text/plain": [
              "<Figure size 640x480 with 2 Axes>"
            ],
            "image/png": "[encoded data removed]"
          },
          "metadata": {}
        }
      ]
    },
    {
      "cell_type": "markdown",
      "metadata": {
        "id": "d659c265"
      },
      "source": [
        "  Finalmente hemos llegado al resultado mostrado en la introducción, en donde podemos ver el peak cercano a los $125\\ [GeV]$. Un punto importante a considerar es que este resultado puede mejorar aún más si consideramos más archivos $\\textbf{.root}$ en el arreglo $\\textrm{data_names}$"
      ],
      "id": "d659c265"
    },
    {
      "cell_type": "code",
      "metadata": {
        "id": "d6eecb84"
      },
      "source": [],
      "id": "d6eecb84",
      "execution_count": null,
      "outputs": []
    },
    {
      "cell_type": "code",
      "metadata": {
        "id": "1017e774"
      },
      "source": [],
      "id": "1017e774",
      "execution_count": null,
      "outputs": []
    },
    {
      "cell_type": "code",
      "metadata": {
        "id": "ebc430f6"
      },
      "source": [],
      "id": "ebc430f6",
      "execution_count": null,
      "outputs": []
    },
    {
      "cell_type": "code",
      "metadata": {
        "id": "be9e6f09"
      },
      "source": [],
      "id": "be9e6f09",
      "execution_count": null,
      "outputs": []
    },
    {
      "cell_type": "code",
      "metadata": {
        "id": "b4c9a614"
      },
      "source": [],
      "id": "b4c9a614",
      "execution_count": null,
      "outputs": []
    },
    {
      "cell_type": "code",
      "metadata": {
        "id": "5085b9b0"
      },
      "source": [],
      "id": "5085b9b0",
      "execution_count": null,
      "outputs": []
    },
    {
      "cell_type": "code",
      "metadata": {
        "id": "da8538dd"
      },
      "source": [],
      "id": "da8538dd",
      "execution_count": null,
      "outputs": []
    },
    {
      "cell_type": "code",
      "metadata": {
        "id": "a2859e75"
      },
      "source": [],
      "id": "a2859e75",
      "execution_count": null,
      "outputs": []
    },
    {
      "cell_type": "code",
      "metadata": {
        "id": "eefaeea5"
      },
      "source": [],
      "id": "eefaeea5",
      "execution_count": null,
      "outputs": []
    }
  ]
}